{
 "cells": [
  {
   "cell_type": "markdown",
   "id": "149035a0",
   "metadata": {},
   "source": [
    "### Задача номер 1"
   ]
  },
  {
   "cell_type": "code",
   "execution_count": 4,
   "id": "8f134539",
   "metadata": {},
   "outputs": [],
   "source": [
    "\n",
    "m=15\n",
    "p=16\n",
    "c=19\n",
    "m_p=7\n",
    "c_m=9\n",
    "p_c=6\n",
    "m_p_c=4\n",
    "\n"
   ]
  },
  {
   "cell_type": "markdown",
   "id": "581e1c76",
   "metadata": {},
   "source": [
    "потрібно знайти надмножину яка не міститиме пересічень"
   ]
  },
  {
   "cell_type": "code",
   "execution_count": 6,
   "id": "b911e5c4",
   "metadata": {},
   "outputs": [
    {
     "name": "stdout",
     "output_type": "stream",
     "text": [
      "32\n"
     ]
    }
   ],
   "source": [
    "print(RES:=m+p-m_p+c-c_m-p_c+m_p_c)\n",
    "\n"
   ]
  },
  {
   "cell_type": "markdown",
   "id": "e0a38eb5",
   "metadata": {},
   "source": [
    "Ще один варіант розв'язання задачі такого типу:\n",
    "* збираємо множини з елементів йдучі від найменшої (яка є підмножиною для всіх множин)\n",
    "    "
   ]
  },
  {
   "cell_type": "code",
   "execution_count": 9,
   "id": "e4df80f4",
   "metadata": {},
   "outputs": [],
   "source": [
    "\n",
    "MPC={1,2,3,4}\n",
    "MP={1,2,3,4,5,6,7}\n",
    "MC={1,2,3,4,8,9,10,11,12}\n",
    "PC={1,2,3,4,13,14}\n",
    "M={1,2,3,4,5,6,7,8,9,10,11,12,15,16,17}\n",
    "P={1,2,3,4,5,6,7,13,14,18,19,20,21,22,23,24}\n",
    "C={1,2,3,4,8,9,10,11,12,13,14,25,26,27,28,29,30,31,32}\n",
    "\n",
    "\n"
   ]
  },
  {
   "cell_type": "markdown",
   "id": "c779e997",
   "metadata": {},
   "source": [
    "Хоча б по одній п'ятірці отримало 32 учні тому що ми перечислили усіх учнів які отримували п'ятірки и останній елемент дорівнює їх кількості"
   ]
  },
  {
   "cell_type": "markdown",
   "id": "f2509e5d",
   "metadata": {},
   "source": [
    "### Задача номер 2\n"
   ]
  },
  {
   "cell_type": "code",
   "execution_count": 12,
   "id": "52f03101",
   "metadata": {},
   "outputs": [
    {
     "name": "stdout",
     "output_type": "stream",
     "text": [
      "15\n"
     ]
    }
   ],
   "source": [
    "ver=30\n",
    "dosch=12\n",
    "viter=8\n",
    "holod=4\n",
    "d_v=5\n",
    "d_h=3\n",
    "v_h=2\n",
    "d_v_h=1\n",
    "print(ver-(dosch+viter-d_v+holod-d_h-v_h+d_v_h))"
   ]
  },
  {
   "cell_type": "markdown",
   "id": "93f3b688",
   "metadata": {},
   "source": [
    "рахуємо потужність надмножини та відраховуємо її з загальної потужності загальної множини"
   ]
  }
 ],
 "metadata": {
  "kernelspec": {
   "display_name": "Python 3 (ipykernel)",
   "language": "python",
   "name": "python3"
  },
  "language_info": {
   "codemirror_mode": {
    "name": "ipython",
    "version": 3
   },
   "file_extension": ".py",
   "mimetype": "text/x-python",
   "name": "python",
   "nbconvert_exporter": "python",
   "pygments_lexer": "ipython3",
   "version": "3.10.11"
  }
 },
 "nbformat": 4,
 "nbformat_minor": 5
}
